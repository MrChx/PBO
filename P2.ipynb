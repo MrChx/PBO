{
 "cells": [
  {
   "cell_type": "code",
   "execution_count": 15,
   "metadata": {},
   "outputs": [
    {
     "name": "stdout",
     "output_type": "stream",
     "text": [
      "kucing tersebut masuk ke dalam ras : persia yang berwarna abu -abus dan berusia 2 tahun\n"
     ]
    }
   ],
   "source": [
    "class Kucing:\n",
    "    ras = \"persia\"\n",
    "    usia = \"2 tahun\"\n",
    "    warna = \"abu -abu\"\n",
    "    \n",
    "    def getinfo(self):\n",
    "        return f\"kucing tersebut masuk ke dalam ras : {self.ras} yang berwarna {self.warna} dan berusia {self.usia}\"\n",
    "\n",
    "objkucing = Kucing()\n",
    "print(objkucing.getinfo())"
   ]
  },
  {
   "cell_type": "code",
   "execution_count": 1,
   "metadata": {},
   "outputs": [
    {
     "ename": "IndentationError",
     "evalue": "expected an indented block after function definition on line 2 (4229827255.py, line 3)",
     "output_type": "error",
     "traceback": [
      "\u001b[1;36m  Cell \u001b[1;32mIn[1], line 3\u001b[1;36m\u001b[0m\n\u001b[1;33m    self.nama = nama\u001b[0m\n\u001b[1;37m    ^\u001b[0m\n\u001b[1;31mIndentationError\u001b[0m\u001b[1;31m:\u001b[0m expected an indented block after function definition on line 2\n"
     ]
    }
   ],
   "source": [
    "class orang:\n",
    "    def __init__(self, nama, asal):\n",
    "        self.nama = nama\n",
    "        self.asal = asal\n",
    "    \n",
    "    def sifat(self):\n",
    "        print(f\"perkenalkan  nama saya : {self.nama}, saya berasal dari {self.asal}\")\n",
    "        \n",
    "class pelajar(orang):\n",
    "    pass\n",
    "\n",
    "objOrg = orang(\"Acha Qilal\",\"Kotamobagu\")\n",
    "objOrg.sifat()\n",
    "objPelajar = pelajar(\"Fitrawansyah Butas\",\"Banggai\")"
   ]
  },
  {
   "cell_type": "code",
   "execution_count": 4,
   "metadata": {},
   "outputs": [
    {
     "name": "stdout",
     "output_type": "stream",
     "text": [
      "hai gais dia bernama : Putri Vadina berasal dari Bilalang Pride dan memiliki hobi edit jedag-jedug di capcut\n"
     ]
    }
   ],
   "source": [
    "class her:\n",
    "    def __init__(self, name, life, hobby):\n",
    "        self.name = name\n",
    "        self.life = life\n",
    "        self.hobby = hobby\n",
    "        \n",
    "    def getInfo(self):\n",
    "        print(f\"hai gais dia bernama : {self.name} berasal dari {self.life} dan memiliki hobi {self.hobby}\")\n",
    "        \n",
    "objher = her(\"Putri Vadina\",\"Bilalang Pride\",\"edit jedag-jedug di capcut\")\n",
    "objher.getInfo()"
   ]
  },
  {
   "cell_type": "code",
   "execution_count": 8,
   "metadata": {},
   "outputs": [
    {
     "name": "stdout",
     "output_type": "stream",
     "text": [
      "kucing tersebut masuk ke dalam ras : persia yang berwarna ijo dan berusai 3\n",
      "None\n"
     ]
    }
   ],
   "source": [
    "class kucing:\n",
    "    def inputData(self):\n",
    "        self.ras = input(\"Masukan ras kucing : \")\n",
    "        self.usia = input(\"masukan usia kucing : \")\n",
    "        self.warna = input(\"masukan warna kucing : \")\n",
    "\n",
    "    def getInfo(self):\n",
    "        print(f\"kucing tersebut masuk ke dalam ras : {self.ras} yang berwarna {self.warna} dan berusai {self.usia}\")\n",
    "        \n",
    "objkucing = kucing()\n",
    "while True:\n",
    "    objkucing.inputData()\n",
    "    print(objkucing.getInfo())\n",
    "\n",
    "    trying = input(\"Apakah anda ingin mengimput lagi ? (ya/tidak) : \")\n",
    "    if trying.upper() != 'Y':\n",
    "        break"
   ]
  },
  {
   "cell_type": "code",
   "execution_count": 7,
   "metadata": {},
   "outputs": [
    {
     "name": "stdout",
     "output_type": "stream",
     "text": [
      "band = hindia\n",
      "judul = evaluasi\n"
     ]
    }
   ],
   "source": [
    "class Lagu:\n",
    "    def __init__(self, band, judul):\n",
    "        self.band = band\n",
    "        self.judul = judul\n",
    "\n",
    "    def cetak_layar(self):\n",
    "        if self.judul == None and self.band == None:\n",
    "            return\n",
    "        print(f\"band = {self.band}\\njudul = {self.judul}\")\n",
    "\n",
    "Lagu=Lagu(\"hindia\",\"evaluasi\")\n",
    "Lagu.cetak_layar()"
   ]
  }
 ],
 "metadata": {
  "kernelspec": {
   "display_name": "Python 3",
   "language": "python",
   "name": "python3"
  },
  "language_info": {
   "codemirror_mode": {
    "name": "ipython",
    "version": 3
   },
   "file_extension": ".py",
   "mimetype": "text/x-python",
   "name": "python",
   "nbconvert_exporter": "python",
   "pygments_lexer": "ipython3",
   "version": "3.12.1"
  }
 },
 "nbformat": 4,
 "nbformat_minor": 2
}

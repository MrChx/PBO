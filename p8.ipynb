{
 "cells": [
  {
   "cell_type": "code",
   "execution_count": 1,
   "metadata": {},
   "outputs": [],
   "source": [
    "import tkinter as tk\n",
    "def button_click():\n",
    "    label.config(text=\"Tomboll Di klik\")\n",
    "    \n",
    "jendela_utama = tk.Tk()\n",
    "jendela_utama.title(\"contoh elemen GUI\")\n",
    "jendela_utama.geometry(\"400x300\")\n",
    "\n",
    "label = tk.Label(jendela_utama, text=\"Halo, ini merupakan label\")\n",
    "label.pack()\n",
    "button = tk.Button(jendela_utama, text=\"CLick Me...\", command=button_click)\n",
    "button.pack()\n",
    "jendela_utama.mainloop()"
   ]
  },
  {
   "cell_type": "code",
   "execution_count": 2,
   "metadata": {},
   "outputs": [
    {
     "ename": "NameError",
     "evalue": "name 'tampilkan_kotak_input' is not defined",
     "output_type": "error",
     "traceback": [
      "\u001b[1;31m---------------------------------------------------------------------------\u001b[0m",
      "\u001b[1;31mNameError\u001b[0m                                 Traceback (most recent call last)",
      "Cell \u001b[1;32mIn[2], line 11\u001b[0m\n\u001b[0;32m      9\u001b[0m jendela\u001b[38;5;241m.\u001b[39mtitle(\u001b[38;5;124m\"\u001b[39m\u001b[38;5;124mcontoh kotak masukan\u001b[39m\u001b[38;5;124m\"\u001b[39m)\n\u001b[0;32m     10\u001b[0m jendela\u001b[38;5;241m.\u001b[39mgeometry(\u001b[38;5;124m'\u001b[39m\u001b[38;5;124m300x200\u001b[39m\u001b[38;5;124m'\u001b[39m)\n\u001b[1;32m---> 11\u001b[0m tombol_input \u001b[38;5;241m=\u001b[39m tk\u001b[38;5;241m.\u001b[39mButton(jendela, text\u001b[38;5;241m=\u001b[39m\u001b[38;5;124m\"\u001b[39m\u001b[38;5;124mtampilkan kotak masukan\u001b[39m\u001b[38;5;124m\"\u001b[39m, command\u001b[38;5;241m=\u001b[39m\u001b[43mtampilkan_kotak_input\u001b[49m)\n\u001b[0;32m     12\u001b[0m tombol_input\u001b[38;5;241m.\u001b[39mpack(pady\u001b[38;5;241m=\u001b[39m\u001b[38;5;241m20\u001b[39m)\n\u001b[0;32m     13\u001b[0m label_nama \u001b[38;5;241m=\u001b[39m tk\u001b[38;5;241m.\u001b[39mLabel(jendela, text\u001b[38;5;241m=\u001b[39m\u001b[38;5;124m\"\u001b[39m\u001b[38;5;124m\"\u001b[39m)\n",
      "\u001b[1;31mNameError\u001b[0m: name 'tampilkan_kotak_input' is not defined"
     ]
    }
   ],
   "source": [
    "import tkinter as tk\n",
    "from tkinter import simpledialog\n",
    "def tampilkan_dialog():\n",
    "    nama = simpledialog.askstring(\"masukan nama\", \"masukan nama anda :\")\n",
    "    if nama:\n",
    "        label_nama.config(text=f\"selamat datang {nama} !\")\n",
    "        \n",
    "jendela = tk.Tk()\n",
    "jendela.title(\"contoh kotak masukan\")\n",
    "jendela.geometry('300x200')\n",
    "tombol_input = tk.Button(jendela, text=\"tampilkan kotak masukan\", command=tampilkan_kotak_input)\n",
    "tombol_input.pack(pady=20)\n",
    "label_nama = tk.Label(jendela, text=\"\")\n",
    "label_nama.pack()\n",
    "jendela.mainloon()"
   ]
  },
  {
   "cell_type": "code",
   "execution_count": 3,
   "metadata": {},
   "outputs": [],
   "source": [
    "import tkinter as tk\n",
    "import sqlite3\n",
    "from tkinter import messagebox\n",
    "class aplikasiCRUD:\n",
    "    def __init__(self, master):\n",
    "        self.master = master\n",
    "        self.master.title(\"aplikasi CRUD sederhana\")\n",
    "        # membuat antarmuka pegguna\n",
    "        self.label_nama = tk.Label(master, text=\"nama :\")\n",
    "        self.label_nama.grid(row=0, column=0, sticky=tk.E, padx=10, pady=10)\n",
    "        self.entry_nama = tk.Entry(master)\n",
    "        self.entry_nama.grid(row=0, column=1, padx=10, pady=10)\n",
    "        \n",
    "        self.tombol_tambah = tk.Button(master, text=\"tambah\", command=self.tambah_data)\n",
    "        self.tombol_tambah.grid(row=1, column=2, padx=10, pady=10)\n",
    "        \n",
    "        self.tombol_tampilkan = tk.Button(master, text=\"tampilkan data\", command=self.tampilkan_data)\n",
    "        self.tombol_tampilkan.grid(row=1, column=1, padx=10, pady=10)\n",
    "        \n",
    "        #membuat koneksi ke basis data SQLite\n",
    "        self.conn = sqlite3.connect(\"data.db\")\n",
    "        self.cursor = self.conn.cursor()\n",
    "        \n",
    "        self.cursor.execute(\"CREATE TABLE IF NOT EXISTS mahasiswa (id INTEGER PRIMARY KEY, nama TEXT)\")\n",
    "        self.conn.commit()\n",
    "        \n",
    "    def tambah_data(self):\n",
    "        nama = self.entry_nama.get()\n",
    "        if nama:\n",
    "            self.cursor.execute(\"INSERT INTO mahasiswa (nama) VALUES (?)\", (nama,))\n",
    "            self.conn.commit()\n",
    "            messagebox.showinfo(\"sukses\", \"data ditambahkan\")\n",
    "            self.entry_nama.delete(0, tk.END)\n",
    "        else:\n",
    "            messagebox.shoewarning(\"peringatan\", \"nama tidak boleh kosong\")\n",
    "            \n",
    "    def tampilkan_data(self):\n",
    "        tampilan = TampilanData(self.master, self.conn, self.cursor)\n",
    "            "
   ]
  },
  {
   "cell_type": "code",
   "execution_count": 4,
   "metadata": {},
   "outputs": [],
   "source": [
    "class TampilanData:\n",
    "    def __init__(self, master, conn, cursor):\n",
    "        self.master = master\n",
    "        self.master.withdraw()\n",
    "        self.tampilan_data = tk.Toplevel(master)\n",
    "        self.tampilan_data.title(\"data mahasiswa\")\n",
    "        \n",
    "        self.conn = conn\n",
    "        self.cursor = cursor\n",
    "        \n",
    "        self.listbox_data = tk.Listbox(self.tampilan_data, width=50, height=10)\n",
    "        self.listbox_data.pack(padx=10, pady=10)\n",
    "        \n",
    "        self.refresh_data()\n",
    "        \n",
    "        self.tombol_tutup = tk.Button(self.tampilan_data, text=\"tutup\", command=self.tutup_tampilan_data)\n",
    "        self.tombol_tutup.pack(pady=10)\n",
    "        \n",
    "    def refresh_data(self):\n",
    "        self.listbox_data.delete(0, tk.END)\n",
    "        self.cursor.execute(\"SELECT * FROM mahasiswa\")\n",
    "        data = self.cursor.fetchall()\n",
    "        \n",
    "        for row in data :\n",
    "            self.listbox_data.insert(tk.END, row[1])\n",
    "            \n",
    "    def tutup_tampilan_data(self):\n",
    "        self.master.deiconify()\n",
    "        self.tampilan_data.destroy()\n",
    "        "
   ]
  },
  {
   "cell_type": "code",
   "execution_count": 6,
   "metadata": {},
   "outputs": [],
   "source": [
    "import tkinter as tk\n",
    "from tkinter import messagebox\n",
    "import sqlite3\n",
    "\n",
    "if __name__ == \"__main__\":\n",
    "    root = tk.Tk()\n",
    "    app = aplikasiCRUD(root)\n",
    "    root.mainloop()"
   ]
  }
 ],
 "metadata": {
  "kernelspec": {
   "display_name": "Python 3",
   "language": "python",
   "name": "python3"
  },
  "language_info": {
   "codemirror_mode": {
    "name": "ipython",
    "version": 3
   },
   "file_extension": ".py",
   "mimetype": "text/x-python",
   "name": "python",
   "nbconvert_exporter": "python",
   "pygments_lexer": "ipython3",
   "version": "3.12.1"
  }
 },
 "nbformat": 4,
 "nbformat_minor": 2
}

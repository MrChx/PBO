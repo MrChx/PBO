{
 "cells": [
  {
   "cell_type": "code",
   "execution_count": 10,
   "metadata": {},
   "outputs": [
    {
     "name": "stdout",
     "output_type": "stream",
     "text": [
      "perkenalkan nama saya : Acha Qilal, saya berasal dari Kotamobagu\n",
      "perkenalkan nama saya : Fitrawansyah Butas, saya berasal dari Banggai\n",
      "saya bersekolah di : SMP1\n",
      "perkenalkan nama saya : Andi, saya berasal dari Palu\n",
      "saya bekerja sebagai : Data analyst\n"
     ]
    }
   ],
   "source": [
    "class orang:\n",
    "    def __init__(self, nama, asal):\n",
    "        self.nama = nama\n",
    "        self.asal = asal\n",
    "    \n",
    "    def sifat(self):\n",
    "        print(f\"perkenalkan nama saya : {self.nama}, saya berasal dari {self.asal}\")\n",
    "        \n",
    "class pelajar(orang):\n",
    "    def __init__(self, nama, asal, sekolah):\n",
    "        orang.__init__(self, nama, asal)\n",
    "        self.sekolah = sekolah\n",
    "        \n",
    "class pekerja(orang):\n",
    "    def __init__(self, nama, asal, pekerja):\n",
    "        orang.__init__(self, nama, asal)\n",
    "        self.pekerja = pekerja\n",
    "\n",
    "objOrg = orang(\"Acha Qilal\",\"Kotamobagu\")\n",
    "objOrg.sifat()\n",
    "objPelajar = pelajar(\"Fitrawansyah Butas\",\"Banggai\",\"SMP1\")\n",
    "objPelajar.sifat()\n",
    "print(f\"saya bersekolah di : {objPelajar.sekolah}\")\n",
    "objPekerja = pekerja(\"Andi\",\"Palu\",\"Data analyst\")\n",
    "objPekerja.sifat()\n",
    "print(f\"saya bekerja sebagai : {objPekerja.pekerja}\")"
   ]
  },
  {
   "cell_type": "code",
   "execution_count": 16,
   "metadata": {},
   "outputs": [
    {
     "name": "stdout",
     "output_type": "stream",
     "text": [
      "ayah =  Kelas ayah\n",
      "ibu =  Kelas ibu\n"
     ]
    }
   ],
   "source": [
    "class mom:\n",
    "    momName = \"\"\n",
    "    def mom(self):\n",
    "        print(self.momName)\n",
    "        \n",
    "class dad:\n",
    "    dadName = \"\"\n",
    "    def dad(self):\n",
    "        print(self.dadName)\n",
    "        \n",
    "class son(mom, dad):\n",
    "    def parent(self):\n",
    "        print(\"ayah = \",self.dadName)\n",
    "        print(\"ibu = \",self.momName)\n",
    "        \n",
    "objSon = son()\n",
    "objSon.dadName = \"Kelas ayah\"\n",
    "objSon.momName = \"Kelas ibu\"\n",
    "objSon.parent()"
   ]
  },
  {
   "cell_type": "code",
   "execution_count": null,
   "metadata": {},
   "outputs": [],
   "source": [
    "class kakek:\n",
    "    def __init__(self, namakakek):\n",
    "        self.namakakek = namakakek\n",
    "        \n",
    "class ayah(kakek):\n",
    "    def __init__(self, namaayah, namakakek):\n",
    "        self.namaayah = namaayah\n",
    "        kakek.__init__(self, namakakek)\n",
    "\n",
    "class anak(ayah):\n",
    "    def __init__(self, namaanak, namaayah, namakakek):\n",
    "        self.namaanak = namaanak\n",
    "        ayah.__init__(self, namaayah, namakakek)\n",
    "        \n",
    "    def print(self):\n",
    "        print(\"Nama Kakek = \", self.namakakek)\n",
    "        print(\"Nama Ayah = \", self.namaayah)\n",
    "        print(\"Nama anak = \", self.namaanak)\n",
    "        \n",
    "obj = anak(\"Geral\",\"Sandi\",\"Fiki\")\n",
    "print(obj.namakakek)\n",
    "obj.print()\n",
    "    "
   ]
  }
 ],
 "metadata": {
  "kernelspec": {
   "display_name": "Python 3",
   "language": "python",
   "name": "python3"
  },
  "language_info": {
   "codemirror_mode": {
    "name": "ipython",
    "version": 3
   },
   "file_extension": ".py",
   "mimetype": "text/x-python",
   "name": "python",
   "nbconvert_exporter": "python",
   "pygments_lexer": "ipython3",
   "version": "3.12.1"
  }
 },
 "nbformat": 4,
 "nbformat_minor": 2
}

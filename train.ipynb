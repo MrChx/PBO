{
 "cells": [
  {
   "cell_type": "code",
   "execution_count": null,
   "metadata": {},
   "outputs": [
    {
     "ename": "NameError",
     "evalue": "name 'musuh' is not defined",
     "output_type": "error",
     "traceback": [
      "\u001b[1;31m---------------------------------------------------------------------------\u001b[0m",
      "\u001b[1;31mNameError\u001b[0m                                 Traceback (most recent call last)",
      "Cell \u001b[1;32mIn[3], line 17\u001b[0m\n\u001b[0;32m     14\u001b[0m     \u001b[38;5;28;01mdef\u001b[39;00m \u001b[38;5;21mserang\u001b[39m(\u001b[38;5;28mself\u001b[39m):\n\u001b[0;32m     15\u001b[0m         \u001b[38;5;28;01mreturn\u001b[39;00m \u001b[38;5;124mf\u001b[39m\u001b[38;5;124m\"\u001b[39m\u001b[38;5;132;01m{\u001b[39;00m\u001b[38;5;28mself\u001b[39m\u001b[38;5;241m.\u001b[39mnama\u001b[38;5;132;01m}\u001b[39;00m\u001b[38;5;124m menyerang dengan \u001b[39m\u001b[38;5;132;01m{\u001b[39;00m\u001b[38;5;28mself\u001b[39m\u001b[38;5;241m.\u001b[39msenjata\u001b[38;5;132;01m}\u001b[39;00m\u001b[38;5;124m!\u001b[39m\u001b[38;5;124m\"\u001b[39m\n\u001b[1;32m---> 17\u001b[0m \u001b[38;5;28;43;01mclass\u001b[39;49;00m\u001b[43m \u001b[49m\u001b[38;5;21;43;01mmusuh\u001b[39;49;00m\u001b[43m(\u001b[49m\u001b[43mkarakter\u001b[49m\u001b[43m)\u001b[49m\u001b[43m:\u001b[49m\n\u001b[0;32m     18\u001b[0m \u001b[43m    \u001b[49m\u001b[38;5;28;43;01mdef\u001b[39;49;00m\u001b[43m \u001b[49m\u001b[38;5;21;43m__init__\u001b[39;49m\u001b[43m(\u001b[49m\u001b[38;5;28;43mself\u001b[39;49m\u001b[43m,\u001b[49m\u001b[43m \u001b[49m\u001b[43mnama\u001b[49m\u001b[43m,\u001b[49m\u001b[43m \u001b[49m\u001b[43mdarah\u001b[49m\u001b[43m,\u001b[49m\u001b[43m \u001b[49m\u001b[43mkekuatan\u001b[49m\u001b[43m)\u001b[49m\u001b[43m:\u001b[49m\n\u001b[0;32m     19\u001b[0m \u001b[43m        \u001b[49m\u001b[38;5;28;43msuper\u001b[39;49m\u001b[43m(\u001b[49m\u001b[43m)\u001b[49m\u001b[38;5;241;43m.\u001b[39;49m\u001b[38;5;21;43m__init__\u001b[39;49m\u001b[43m(\u001b[49m\u001b[43mnama\u001b[49m\u001b[43m,\u001b[49m\u001b[43m \u001b[49m\u001b[43mdarah\u001b[49m\u001b[43m)\u001b[49m\n",
      "Cell \u001b[1;32mIn[3], line 56\u001b[0m, in \u001b[0;36mmusuh\u001b[1;34m()\u001b[0m\n\u001b[0;32m     53\u001b[0m     pertarungan(pemain1, musuh1)\n\u001b[0;32m     55\u001b[0m \u001b[38;5;28;01mif\u001b[39;00m \u001b[38;5;18m__name__\u001b[39m \u001b[38;5;241m==\u001b[39m \u001b[38;5;124m\"\u001b[39m\u001b[38;5;124m__main__\u001b[39m\u001b[38;5;124m\"\u001b[39m:\n\u001b[1;32m---> 56\u001b[0m     \u001b[43mmain\u001b[49m\u001b[43m(\u001b[49m\u001b[43m)\u001b[49m\n",
      "Cell \u001b[1;32mIn[3], line 51\u001b[0m, in \u001b[0;36mmusuh.main\u001b[1;34m()\u001b[0m\n\u001b[0;32m     49\u001b[0m \u001b[38;5;28;01mdef\u001b[39;00m \u001b[38;5;21mmain\u001b[39m():\n\u001b[0;32m     50\u001b[0m     pemain1 \u001b[38;5;241m=\u001b[39m pemain(\u001b[38;5;124m\"\u001b[39m\u001b[38;5;124mafif\u001b[39m\u001b[38;5;124m\"\u001b[39m, \u001b[38;5;241m100\u001b[39m, \u001b[38;5;124m\"\u001b[39m\u001b[38;5;124mpedang\u001b[39m\u001b[38;5;124m\"\u001b[39m)\n\u001b[1;32m---> 51\u001b[0m     musuh1 \u001b[38;5;241m=\u001b[39m \u001b[43mmusuh\u001b[49m(\u001b[38;5;124m\"\u001b[39m\u001b[38;5;124mdhea\u001b[39m\u001b[38;5;124m\"\u001b[39m, \u001b[38;5;241m88\u001b[39m, \u001b[38;5;241m15\u001b[39m)\n\u001b[0;32m     53\u001b[0m     pertarungan(pemain1, musuh1)\n",
      "\u001b[1;31mNameError\u001b[0m: name 'musuh' is not defined"
     ]
    }
   ],
   "source": [
    "class Karakter:\n",
    "    def __init__(self, nama, darah):\n",
    "        self.nama = nama\n",
    "        self.darah = darah\n",
    "\n",
    "    def serang(self):\n",
    "        raise NotImplementedError(\"Method 'serang()' harus diimplementasikan dalam subclass.\")\n",
    "\n",
    "\n",
    "class Pemain(Karakter):\n",
    "    def __init__(self, nama, darah, senjata):\n",
    "        super().__init__(nama, darah)\n",
    "        self.senjata = senjata\n",
    "\n",
    "    def serang(self):\n",
    "        return f\"{self.nama} menyerang dengan {self.senjata}!\"\n",
    "\n",
    "\n",
    "class Musuh(Karakter):\n",
    "    def __init__(self, nama, darah, kekuatan):\n",
    "        super().__init__(nama, darah)\n",
    "        self.kekuatan = kekuatan\n",
    "\n",
    "    def serang(self):\n",
    "        return f\"{self.nama} menyerang dengan kekuatan {self.kekuatan}!\"\n",
    "\n",
    "\n",
    "def pertarungan(pemain, musuh):\n",
    "    print(f\"Perang dimulai antara {pemain.nama} dan {musuh.nama}!\\n\")\n",
    "\n",
    "    while pemain.darah > 0 and musuh.darah > 0:\n",
    "        # Pemain menyerang musuh\n",
    "        print(pemain.serang())\n",
    "        musuh.darah -= 10\n",
    "        print(f\"Kesehatan {musuh.nama}: {musuh.darah}\\n\")\n",
    "\n",
    "        if musuh.darah <= 0:\n",
    "            print(f\"{musuh.nama} telah dikalahkan!\")\n",
    "            break\n",
    "\n",
    "        # Musuh menyerang pemain\n",
    "        print(musuh.serang())\n",
    "        pemain.darah -= musuh.kekuatan\n",
    "        print(f\"Kesehatan {pemain.nama}: {pemain.darah}\\n\")\n",
    "\n",
    "        if pemain.darah <= 0:\n",
    "            print(f\"{pemain.nama} telah dikalahkan!\")\n",
    "            break\n",
    "\n",
    "\n",
    "def main():\n",
    "    pemain1 = Pemain(\"Afif\", 100, \"pedang\")\n",
    "    musuh1 = Musuh(\"Dhea\", 88, 15)\n",
    "\n",
    "    pertarungan(pemain1, musuh1)\n",
    "\n",
    "\n",
    "if __name__ == \"__main__\":\n",
    "    main()\n"
   ]
  },
  {
   "cell_type": "code",
   "execution_count": null,
   "metadata": {},
   "outputs": [],
   "source": [
    "class penjumlahan:\n",
    "    bil_1 = 0\n",
    "    bil_2 = 0\n",
    "    hasil = 0\n",
    "    \n",
    "    def rumus(self, a, b):\n",
    "        self.hasil = self.bil_1 + self.bil_2\n",
    "        \n",
    "p = penjumlahan()\n",
    "print(p.rumus(10, 9))\n"
   ]
  }
 ],
 "metadata": {
  "kernelspec": {
   "display_name": "Python 3",
   "language": "python",
   "name": "python3"
  },
  "language_info": {
   "codemirror_mode": {
    "name": "ipython",
    "version": 3
   },
   "file_extension": ".py",
   "mimetype": "text/x-python",
   "name": "python",
   "nbconvert_exporter": "python",
   "pygments_lexer": "ipython3",
   "version": "3.12.1"
  }
 },
 "nbformat": 4,
 "nbformat_minor": 2
}

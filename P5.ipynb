{
 "cells": [
  {
   "cell_type": "code",
   "execution_count": null,
   "metadata": {},
   "outputs": [],
   "source": []
  },
  {
   "cell_type": "code",
   "execution_count": 1,
   "metadata": {},
   "outputs": [
    {
     "name": "stdout",
     "output_type": "stream",
     "text": [
      "terjadi ksesalahan division by zero\n"
     ]
    }
   ],
   "source": [
    "try :\n",
    "    angka = 100\n",
    "    \n",
    "    a = angka / 0\n",
    "    print(a)\n",
    "except ZeroDivisionError as e :\n",
    "    print (f\"terjadi ksesalahan {e}\")"
   ]
  },
  {
   "cell_type": "code",
   "execution_count": 2,
   "metadata": {},
   "outputs": [
    {
     "name": "stdout",
     "output_type": "stream",
     "text": [
      "terjadi kesalahan can only concatenate str (not \"int\") to str\n"
     ]
    }
   ],
   "source": [
    "try :\n",
    "    angka = '20'\n",
    "    \n",
    "    hasil = angka + 10\n",
    "    print(hasil)\n",
    "except TypeError as t :\n",
    "    print (f\"terjadi kesalahan {t}\")"
   ]
  },
  {
   "cell_type": "code",
   "execution_count": 4,
   "metadata": {},
   "outputs": [
    {
     "name": "stdout",
     "output_type": "stream",
     "text": [
      "terjadi kesalahan invalid literal for int() with base 10: 'tujuh'\n"
     ]
    }
   ],
   "source": [
    "try:\n",
    "    angka = int('tujuh')\n",
    "    print (angka)\n",
    "except ValueError as v :\n",
    "    print (f\"terjadi kesalahan {v}\")"
   ]
  },
  {
   "cell_type": "code",
   "execution_count": 6,
   "metadata": {},
   "outputs": [
    {
     "name": "stdout",
     "output_type": "stream",
     "text": [
      "terjadi kesalahan name 'a1' is not defined\n"
     ]
    }
   ],
   "source": [
    "try : \n",
    "    a = int(17)\n",
    "    print (a1)\n",
    "except NameError as n :\n",
    "    print (f\"terjadi kesalahan {n}\")"
   ]
  },
  {
   "cell_type": "code",
   "execution_count": 8,
   "metadata": {},
   "outputs": [
    {
     "name": "stdout",
     "output_type": "stream",
     "text": [
      "akar kuadrat dari : 6 adalah = 2.449489742783178\n"
     ]
    }
   ],
   "source": [
    "class NilaiNegatifError(Exception):\n",
    "    def __init__(self, nilai):\n",
    "        self.nilai = nilai\n",
    "        super().__init__(f\"Bilangan negatif ditemukan {nilai}\")\n",
    "        \n",
    "def hitung_akar_kuadrat(nilai):\n",
    "    if nilai < 0 :\n",
    "        raise NilaiNegatifError(nilai)\n",
    "    return nilai ** 0.5\n",
    "\n",
    "try : \n",
    "    angka = 6\n",
    "    akar = hitung_akar_kuadrat(angka)\n",
    "    print(f\"akar kuadrat dari : {angka} adalah = {akar}\")\n",
    "except NilaiNegatifError as r:\n",
    "    print (f\"Terjadi kesalahan : {r}\")"
   ]
  },
  {
   "cell_type": "code",
   "execution_count": 9,
   "metadata": {},
   "outputs": [
    {
     "name": "stdout",
     "output_type": "stream",
     "text": [
      "hasil pembilangan = 1.1764705882352942\n"
     ]
    }
   ],
   "source": [
    "try :\n",
    "    angka = int(input(\"masukan bilangan : \"))\n",
    "    hasil = 20 / angka\n",
    "except ZeroDivisionError as ex:\n",
    "    print (f\"terjadi kesalahan : {ex} (tidak dapat membagi oleh nol)\")\n",
    "except ValueError as ex:\n",
    "    print (f\"terjadi kesalahan {ex} (bukan angka yang valid)\")\n",
    "else :\n",
    "    print(f\"hasil pembilangan = {hasil}\")"
   ]
  },
  {
   "cell_type": "code",
   "execution_count": 16,
   "metadata": {},
   "outputs": [
    {
     "name": "stdout",
     "output_type": "stream",
     "text": [
      "luas persegi 49\n",
      "keliling persegi 28\n",
      "luas segitiga 12.0\n",
      "keliling segitiga 21\n",
      "luas lingkaran 200.96\n",
      "keliling lingkaran 50.24\n"
     ]
    }
   ],
   "source": [
    "class BangunDatar:\n",
    "    def luas (self):\n",
    "        print (\"menghitung luas bangun datar\")\n",
    "    def keliling (self):\n",
    "        print (\"menghitung keliling bangun datar\")\n",
    "\n",
    "class Persegi(BangunDatar):\n",
    "    def __init__ (self, sisi):\n",
    "        self.sisi = sisi\n",
    "    def luas(self):\n",
    "        return self.sisi * self.sisi\n",
    "    def keliling(self):\n",
    "        return self.sisi * 4\n",
    "               \n",
    "class Segitiga(BangunDatar):\n",
    "    def __init__ (self, alas, tinggi, sisi):\n",
    "        self.alas = alas\n",
    "        self.tinggi = tinggi \n",
    "        self.sisi = sisi\n",
    "    def luas(self):\n",
    "        return self.alas * self.tinggi * 1/2\n",
    "    def keliling(self):\n",
    "        return self.sisi + self.sisi + self.sisi\n",
    "    \n",
    "class Lingkaran(BangunDatar):\n",
    "    def __init__ (self, r):\n",
    "        self.r = r\n",
    "    def luas(self):\n",
    "        return 3.14 * self.r * self.r \n",
    "    def keliling(self):\n",
    "        return 2 * 3.14 * self.r\n",
    "    \n",
    "objBangunDatar = BangunDatar()\n",
    "objPersegi = Persegi(7)\n",
    "objSegitiga = Segitiga(6, 4, 7)\n",
    "objLingkaran = Lingkaran(8)\n",
    "\n",
    "print(\"luas persegi\",objPersegi.luas())\n",
    "print(\"keliling persegi\",objPersegi.keliling())\n",
    "print(\"luas segitiga\",objSegitiga.luas())\n",
    "print(\"keliling segitiga\",objSegitiga.keliling())\n",
    "print(\"luas lingkaran\",objLingkaran.luas())\n",
    "print(\"keliling lingkaran\",objLingkaran.keliling())\n",
    "    \n",
    "    \n",
    "        \n",
    "    "
   ]
  }
 ],
 "metadata": {
  "kernelspec": {
   "display_name": "Python 3",
   "language": "python",
   "name": "python3"
  },
  "language_info": {
   "codemirror_mode": {
    "name": "ipython",
    "version": 3
   },
   "file_extension": ".py",
   "mimetype": "text/x-python",
   "name": "python",
   "nbconvert_exporter": "python",
   "pygments_lexer": "ipython3",
   "version": "3.12.1"
  }
 },
 "nbformat": 4,
 "nbformat_minor": 2
}

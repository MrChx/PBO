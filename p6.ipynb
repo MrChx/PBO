{
 "cells": [
  {
   "cell_type": "code",
   "execution_count": 3,
   "metadata": {},
   "outputs": [
    {
     "name": "stdout",
     "output_type": "stream",
     "text": [
      "data berhasil ditulis ke - file1.txt\n"
     ]
    }
   ],
   "source": [
    "Path_data = 'file1.txt'\n",
    "try:\n",
    "    with open(Path_data, 'w') as file:\n",
    "        file.write(\"acha qilal\\n\")\n",
    "        file.write(\"T3122176\\n\")\n",
    "        file.write(\"Kotamobagu\")\n",
    "    print(f\"data berhasil ditulis ke - {Path_data}\")\n",
    "except IOError:\n",
    "    print(f\"gagal membuka atau menulis data ke file - {Path_data}\")"
   ]
  },
  {
   "cell_type": "code",
   "execution_count": 4,
   "metadata": {},
   "outputs": [
    {
     "name": "stdout",
     "output_type": "stream",
     "text": [
      "acha qilal\n",
      "T3122176\n",
      "Kotamobagu\n"
     ]
    }
   ],
   "source": [
    "Path_data = 'file1.txt'\n",
    "try:\n",
    "    with open(Path_data, 'r') as file:\n",
    "        isi_data = file.read()\n",
    "        print(isi_data)\n",
    "except FileNotFoundError:\n",
    "    print(f\"file {Path_data} tidak ditemukan\")\n",
    "except IOError:\n",
    "    print(f\"gagal membuka atau membaca {Path_data}\")\n",
    "        "
   ]
  },
  {
   "cell_type": "code",
   "execution_count": 7,
   "metadata": {},
   "outputs": [
    {
     "name": "stdout",
     "output_type": "stream",
     "text": [
      "data biner telah ditulis ke - file2.bin\n",
      "Data yang dibaca dari file2.bin\n",
      "b'Helo World'\n"
     ]
    }
   ],
   "source": [
    "Path_data = 'file2.bin'\n",
    "try:\n",
    "    with open(Path_data, 'wb+') as file:\n",
    "        binary_data = b'\\x48\\x65\\x6c\\x6f\\x20\\x57\\x6f\\x72\\x6c\\x64'\n",
    "        file.write(binary_data)\n",
    "        file.seek(0)\n",
    "        data = file.read()\n",
    "        print(f\"data biner telah ditulis ke - {Path_data}\")\n",
    "        print(f\"Data yang dibaca dari {Path_data}\")\n",
    "        print(data)\n",
    "except IOError:\n",
    "    print(f\"gagal mrmbuka dan menulis data biner ke {Path_data}\")\n",
    "        \n",
    "        "
   ]
  },
  {
   "cell_type": "code",
   "execution_count": 10,
   "metadata": {},
   "outputs": [
    {
     "name": "stdout",
     "output_type": "stream",
     "text": [
      "data telah ditulis ke file file3.csv\n",
      "['nama', 'alamat']\n",
      "['Acha Qilal', 'Kotamobagu']\n",
      "['Ikram', 'Gorontalo']\n",
      "['Fitrawansya', 'Banggai']\n"
     ]
    }
   ],
   "source": [
    "import csv\n",
    "Path_data = \"file3.csv\"\n",
    "data = [\n",
    "    [\"nama\", \"alamat\"],\n",
    "    [\"Acha Qilal\", \"Kotamobagu\"],\n",
    "    [\"Ikram\", \"Gorontalo\"],\n",
    "    [\"Fitrawansya\", \"Banggai\"]\n",
    "]\n",
    "try:\n",
    "    with open(Path_data, mode='w+', newline='') as file_csv:\n",
    "        tulis_csv = csv.writer(file_csv)\n",
    "        tulis_csv.writerow(data[0])\n",
    "        for baris in data [1:]:\n",
    "            tulis_csv.writerow(baris)\n",
    "        print(f\"data telah ditulis ke file {Path_data}\")\n",
    "        file_csv.seek(0)\n",
    "        baca_csv = csv.reader(file_csv)\n",
    "        for row in baca_csv:\n",
    "            print(row)\n",
    "except Exception as e:\n",
    "    print(f\"terjadi kesalahan : {str(e)}\")"
   ]
  }
 ],
 "metadata": {
  "kernelspec": {
   "display_name": "Python 3",
   "language": "python",
   "name": "python3"
  },
  "language_info": {
   "codemirror_mode": {
    "name": "ipython",
    "version": 3
   },
   "file_extension": ".py",
   "mimetype": "text/x-python",
   "name": "python",
   "nbconvert_exporter": "python",
   "pygments_lexer": "ipython3",
   "version": "3.12.1"
  }
 },
 "nbformat": 4,
 "nbformat_minor": 2
}

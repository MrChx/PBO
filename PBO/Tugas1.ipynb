{
 "cells": [
  {
   "cell_type": "code",
   "execution_count": 5,
   "metadata": {},
   "outputs": [
    {
     "name": "stdout",
     "output_type": "stream",
     "text": [
      "Nama: Afif Mayango, Umur: 19\n",
      "No anggota: 23\n",
      "Afif Mayango telah meminjam buku. Jumlah Buku: 1\n",
      "Afif Mayango telah mengembalikan buku. Jumlah Pinjaman Buku Sekarang: 0\n"
     ]
    }
   ],
   "source": [
    "class user:\n",
    "    def __init__(self, name, old):\n",
    "        self.name = name\n",
    "        self.old = old\n",
    "    \n",
    "    def get_info(self):\n",
    "        print(f\"Nama: {self.name}, Umur: {self.old}\")\n",
    "\n",
    "class AnggotaPerpustakaan(user):\n",
    "    def __init__(self, name, old, member_number):\n",
    "        super().__init__(name, old)\n",
    "        self.member_number = member_number\n",
    "        self.jp = 0\n",
    "\n",
    "    def pinjam_buku(self):\n",
    "        self.jp += 1\n",
    "        print(f\"{self.name} telah meminjam buku. Jumlah Buku: {self.jp}\")\n",
    "    \n",
    "    def kembalikan_buku(self):\n",
    "        if self.jp > 0:\n",
    "            self.jp -= 1\n",
    "            print(f\"{self.name} telah mengembalikan buku. Jumlah Pinjaman Buku Sekarang: {self.jp}\")\n",
    "        else:\n",
    "            print(\"Tidak ada buku yang dipinjam.\")\n",
    "\n",
    "anggota = AnggotaPerpustakaan(\"Afif Mayango\", 19, '23')\n",
    "anggota.get_info()\n",
    "print(f'No anggota: {anggota.member_number}')\n",
    "anggota.pinjam_buku()\n",
    "anggota.kembalikan_buku()"
   ]
  },
  {
   "cell_type": "code",
   "execution_count": 6,
   "metadata": {},
   "outputs": [
    {
     "name": "stdout",
     "output_type": "stream",
     "text": [
      "Nama: Dhea Tahaku, Umur: 19\n",
      "No Petugas: 37\n",
      "Dhea Tahaku telah bertugas. Jumlah Bertugas: 3\n",
      "Dhea Tahaku telah pulang bertugas. Jumlah pulang Bertugas Sekarang: 2\n"
     ]
    }
   ],
   "source": [
    "class user:\n",
    "    def __init__(self, name, old):\n",
    "        self.name = name\n",
    "        self.old = old\n",
    "    \n",
    "    def get_info(self):\n",
    "        print(f\"Nama: {self.name}, Umur: {self.old}\")\n",
    "\n",
    "class Petugas(user):\n",
    "    def __init__(self, name, old, officer_number):\n",
    "        super().__init__(name, old)\n",
    "        self.officer_number = officer_number\n",
    "        self.bt = 1\n",
    "\n",
    "    def input_new_book(self):\n",
    "        self.bt += 2\n",
    "        print(f\"{self.name} telah bertugas. Jumlah Bertugas: {self.bt}\")\n",
    "    \n",
    "    def cetak_laporan(self):\n",
    "        if self.bt > 0:\n",
    "            self.bt -= 1\n",
    "            print(f\"{self.name} telah pulang bertugas. Jumlah pulang Bertugas Sekarang: {self.bt}\")\n",
    "        else:\n",
    "            print(\"Tidak ada yang Bertugas.\")\n",
    "\n",
    "anggota = Petugas(\"Dhea Tahaku\", 19, '37')\n",
    "anggota.get_info()\n",
    "print(f'No Petugas: {anggota.officer_number}')\n",
    "anggota.input_new_book()\n",
    "anggota.cetak_laporan()"
   ]
  },
  {
   "cell_type": "code",
   "execution_count": null,
   "metadata": {},
   "outputs": [],
   "source": [
    "class user:\n",
    "    def __init__(self, name, old):\n",
    "        self.name = name\n",
    "        self.old = old\n",
    "    \n",
    "    def get_info(self):\n",
    "        print(f\"Nama: {self.name}, Umur: {self.old}\")\n",
    "\n",
    "class Administrator(user):\n",
    "    def __init__(self, name, old, admin_number):\n",
    "        super().__init__(name, old)\n",
    "        self.admin_number = admin_number\n",
    "        self.hak_akses = 1\n",
    "\n",
    "    def new_user(self):\n",
    "        self.hak_akses += 2\n",
    "        print(f\"{self.name} telah berakses. Jumlah Berakses: {self.hak_akses}\")\n",
    "    \n",
    "    def remove_user(self):\n",
    "        if self.hak_akses > 0:\n",
    "            self.hak_akses -= 1\n",
    "            print(f\"{self.name} telah non akses. Jumlah non akses Sekarang: {self.hak_akses}\")\n",
    "        else:\n",
    "            print(\"Tidak ada yang Berakses.\")\n",
    "\n",
    "anggota = Administrator(\"Johan Farhan\", 18, '93')\n",
    "anggota.get_info()\n",
    "print(f'No administrator: {anggota.admin_number}')\n",
    "anggota.new_user()\n",
    "anggota.remove_user()"
   ]
  }
 ],
 "metadata": {
  "kernelspec": {
   "display_name": "Python 3",
   "language": "python",
   "name": "python3"
  },
  "language_info": {
   "codemirror_mode": {
    "name": "ipython",
    "version": 3
   },
   "file_extension": ".py",
   "mimetype": "text/x-python",
   "name": "python",
   "nbconvert_exporter": "python",
   "pygments_lexer": "ipython3",
   "version": "3.12.1"
  }
 },
 "nbformat": 4,
 "nbformat_minor": 2
}

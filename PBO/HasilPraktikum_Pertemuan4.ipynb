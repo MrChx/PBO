{
 "cells": [
  {
   "cell_type": "code",
   "execution_count": 1,
   "metadata": {},
   "outputs": [
    {
     "name": "stdout",
     "output_type": "stream",
     "text": [
      "guk guk\n",
      "meong meong\n"
     ]
    }
   ],
   "source": [
    "class hewan :\n",
    "    def bersuara (self):\n",
    "        pass\n",
    "    \n",
    "class anjing(hewan):\n",
    "    def bersuara(self):\n",
    "        return \"guk guk\"\n",
    "    \n",
    "class kucing(hewan):\n",
    "    def bersuara(self):\n",
    "        return \"meong meong\"\n",
    "    \n",
    "hewan1 = anjing()\n",
    "hewan2 = kucing()\n",
    "\n",
    "suara1 = hewan1.bersuara()\n",
    "suara2 = hewan2.bersuara()\n",
    "\n",
    "print(suara1)\n",
    "print(suara2)"
   ]
  },
  {
   "cell_type": "code",
   "execution_count": 3,
   "metadata": {},
   "outputs": [
    {
     "name": "stdout",
     "output_type": "stream",
     "text": [
      "7\n",
      "15\n"
     ]
    }
   ],
   "source": [
    "class kalkulator :\n",
    "    \n",
    "    def hitung(self, a, b):\n",
    "        return a + b\n",
    "    \n",
    "    def hitung(self, a, b, c=0):\n",
    "        return a + b + c\n",
    "    \n",
    "k = kalkulator()\n",
    "hasil1 = k.hitung(5, 2)\n",
    "hasil2 = k.hitung(5, 3, 7)\n",
    "\n",
    "print(hasil1)\n",
    "print(hasil2)"
   ]
  },
  {
   "cell_type": "code",
   "execution_count": null,
   "metadata": {},
   "outputs": [],
   "source": [
    "class kalkulator :\n",
    "    def hitung(self, a, b=None):\n",
    "        if b is None:\n",
    "            return a * 2\n",
    "        else :\n",
    "            return a + b\n",
    "        \n",
    "k = kalkulator()\n",
    "hasil1 = k.hitung(17)\n",
    "hasil2 = k.hitung(17, 8)\n",
    "\n",
    "print(hasil1)\n",
    "print(hasil2)\n"
   ]
  },
  {
   "cell_type": "code",
   "execution_count": 14,
   "metadata": {},
   "outputs": [
    {
     "name": "stdout",
     "output_type": "stream",
     "text": [
      "6\n",
      "10\n"
     ]
    }
   ],
   "source": [
    "class kalkulator:\n",
    "     def hitung(self, *args):\n",
    "         if len (args) == 1:\n",
    "             return args [0] * 2 \n",
    "         elif len(args) == 2 :\n",
    "             return args [0] + args[1]\n",
    "         \n",
    "k = kalkulator()\n",
    "hasil1 = k.hitung(3)\n",
    "hasil2 = k.hitung(3, 7)\n",
    "\n",
    "print(hasil1)\n",
    "print(hasil2)\n",
    "\n"
   ]
  },
  {
   "cell_type": "code",
   "execution_count": 15,
   "metadata": {},
   "outputs": [
    {
     "name": "stdout",
     "output_type": "stream",
     "text": [
      "di dunia ini ada beberapa tipe berbeda dari spesies burung\n",
      "hampir semua burung dapat terbang, tapi ada beberapa burung yang tidak\n",
      "di dunia ini ada beberapa tipe berbeda dari spesies burung\n",
      "elang dapat terbang\n",
      "di dunia ini ada beberapa tipe berbeda dari spesies burung\n",
      "burung unta tidak dapat terbang\n"
     ]
    }
   ],
   "source": [
    "class burung :\n",
    "    def intro(self):\n",
    "        print (\"di dunia ini ada beberapa tipe berbeda dari spesies burung\")\n",
    "        \n",
    "    def terbang(self):\n",
    "        print(\"hampir semua burung dapat terbang, tapi ada beberapa burung yang tidak\")\n",
    "        \n",
    "class elang(burung):\n",
    "    def terbang(self):\n",
    "        print(\"elang dapat terbang\")\n",
    "        \n",
    "class burungUnta(burung):\n",
    "    def terbang(self):\n",
    "        print(\"burung unta tidak dapat terbang\")\n",
    "        \n",
    "objBurung = burung()\n",
    "objElang = elang()\n",
    "objBurungUnta = burungUnta()\n",
    "\n",
    "objBurung.intro()\n",
    "objBurung.terbang()\n",
    "\n",
    "objElang.intro()\n",
    "objElang.terbang()\n",
    "\n",
    "objBurungUnta.intro()\n",
    "objBurungUnta.terbang()"
   ]
  },
  {
   "cell_type": "code",
   "execution_count": 17,
   "metadata": {},
   "outputs": [
    {
     "ename": "TypeError",
     "evalue": "Can't instantiate abstract class persegi without an implementation for abstract method 'luas'",
     "output_type": "error",
     "traceback": [
      "\u001b[1;31m---------------------------------------------------------------------------\u001b[0m",
      "\u001b[1;31mTypeError\u001b[0m                                 Traceback (most recent call last)",
      "Cell \u001b[1;32mIn[17], line 22\u001b[0m\n\u001b[0;32m     19\u001b[0m     \u001b[38;5;28;01mdef\u001b[39;00m \u001b[38;5;21mluas\u001b[39m(\u001b[38;5;28mself\u001b[39m):\n\u001b[0;32m     20\u001b[0m         \u001b[38;5;28;01mreturn\u001b[39;00m \u001b[38;5;241m3.14\u001b[39m \u001b[38;5;241m*\u001b[39m  \u001b[38;5;28mself\u001b[39m\u001b[38;5;241m.\u001b[39mjari \u001b[38;5;241m*\u001b[39m\u001b[38;5;241m*\u001b[39m \u001b[38;5;241m2\u001b[39m\n\u001b[1;32m---> 22\u001b[0m bentuk1 \u001b[38;5;241m=\u001b[39m \u001b[43mpersegi\u001b[49m\u001b[43m \u001b[49m\u001b[43m(\u001b[49m\u001b[38;5;241;43m4\u001b[39;49m\u001b[43m)\u001b[49m\n\u001b[0;32m     23\u001b[0m bentuk2 \u001b[38;5;241m=\u001b[39m lingkaran (\u001b[38;5;241m3\u001b[39m)\n\u001b[0;32m     25\u001b[0m \u001b[38;5;28mprint\u001b[39m(bentuk1\u001b[38;5;241m.\u001b[39mluas())\n",
      "\u001b[1;31mTypeError\u001b[0m: Can't instantiate abstract class persegi without an implementation for abstract method 'luas'"
     ]
    }
   ],
   "source": [
    "from abc import ABC, abstractmethod\n",
    "\n",
    "class bentuk(ABC):\n",
    "    @abstractmethod\n",
    "    def luas(self):\n",
    "        pass\n",
    "    \n",
    "class persegi(bentuk):\n",
    "    def __init__ (self, sisi):\n",
    "        self.sisi = sisi\n",
    "        \n",
    "def luas (self):\n",
    "    return self.sisi ** 2\n",
    "\n",
    "class lingkaran(bentuk):\n",
    "    def __init__ (self, jari):\n",
    "        self.jari = jari\n",
    "        \n",
    "    def luas(self):\n",
    "        return 3.14 *  self.jari ** 2\n",
    "    \n",
    "bentuk1 = persegi (4)\n",
    "bentuk2 = lingkaran (3)\n",
    "\n",
    "print(bentuk1.luas())\n",
    "print(bentuk2.luas())"
   ]
  }
 ],
 "metadata": {
  "kernelspec": {
   "display_name": "Python 3",
   "language": "python",
   "name": "python3"
  },
  "language_info": {
   "codemirror_mode": {
    "name": "ipython",
    "version": 3
   },
   "file_extension": ".py",
   "mimetype": "text/x-python",
   "name": "python",
   "nbconvert_exporter": "python",
   "pygments_lexer": "ipython3",
   "version": "3.12.1"
  }
 },
 "nbformat": 4,
 "nbformat_minor": 2
}
